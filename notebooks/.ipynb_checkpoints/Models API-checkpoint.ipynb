{
 "cells": [
  {
   "cell_type": "code",
   "execution_count": null,
   "id": "03cb940c",
   "metadata": {},
   "outputs": [],
   "source": [
    "#\n",
    "# Models API Notebook.\n",
    "#\n",
    "# To use this notebook, you'll need a `client_id` and `client_secret`, which you can generate from \n",
    "# https://app.fairnow.ai and going the the Admin menu. This notebook assumes you have these stored as\n",
    "# environment variables\n",
    "#\n",
    "\n",
    "import requests\n",
    "import os\n",
    "import json\n",
    "\n",
    "client_id = os.getenv(\"FAIRNOW_CLIENT_ID\")\n",
    "client_secret = os.getenv(\"FAIRNOW_CLIENT_SECRET\")\n",
    "\n",
    "fairnow_api = \"https://api.fairnow.dev/v1\"\n"
   ]
  },
  {
   "cell_type": "code",
   "execution_count": null,
   "id": "bfc8713e",
   "metadata": {},
   "outputs": [],
   "source": []
  }
 ],
 "metadata": {
  "kernelspec": {
   "display_name": "Python 3 (ipykernel)",
   "language": "python",
   "name": "python3"
  },
  "language_info": {
   "codemirror_mode": {
    "name": "ipython",
    "version": 3
   },
   "file_extension": ".py",
   "mimetype": "text/x-python",
   "name": "python",
   "nbconvert_exporter": "python",
   "pygments_lexer": "ipython3",
   "version": "3.11.4"
  }
 },
 "nbformat": 4,
 "nbformat_minor": 5
}

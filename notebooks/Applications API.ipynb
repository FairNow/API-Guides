{
 "cells": [
  {
   "cell_type": "markdown",
   "id": "0",
   "metadata": {},
   "source": [
    "## Working With the Applications API"
   ]
  },
  {
   "cell_type": "markdown",
   "id": "1",
   "metadata": {},
   "source": [
    "### Prerequisites:\n",
    "\n",
    "#### To use this notebook, you'll need a `Client ID` and `Client Secret`. These will either have been provided to you, or you can generate from https://app.fairnow.ai and going the the Admin menu. This notebook assumes you have these available to enter when prompted.\n",
    "\n",
    "#### Running the following cell will prompt you for the `Client ID` and `Client Secret` and create a `client` instance that can be used to communicate with the Fairnow APIs."
   ]
  },
  {
   "cell_type": "code",
   "execution_count": null,
   "id": "2",
   "metadata": {},
   "outputs": [],
   "source": [
    "import json\n",
    "from getpass import getpass\n",
    "import httpx\n",
    "from httpx_auth import OAuth2ClientCredentials\n",
    "\n",
    "client_id = \"{client_id}\" # Replace with your Client Id\n",
    "client_secret = getpass(\"Client Secret\")\n",
    "fairnow_token_endpoint = \"https://auth.fairnow.ai/oauth2/token\"\n",
    "\n",
    "auth = OAuth2ClientCredentials(\n",
    "    token_url=fairnow_token_endpoint,\n",
    "    client_id=client_id,\n",
    "    client_secret=client_secret,\n",
    ")\n",
    "\n",
    "fairnow_base_url = \"https://api.fairnow.ai/v2\"\n",
    "client = httpx.Client(base_url=fairnow_base_url, auth=auth)"
   ]
  },
  {
   "cell_type": "markdown",
   "id": "3",
   "metadata": {},
   "source": [
    "#### Create A New AI Application"
   ]
  },
  {
   "cell_type": "markdown",
   "id": "4",
   "metadata": {},
   "source": [
    "#### At a minimum an AI Application requires an Application Name, Source and Type. Valid Sources are `internal` or `vendor`.  The response will give you a `application_id` and `application_version`, save these for use in other notebooks."
   ]
  },
  {
   "cell_type": "code",
   "execution_count": null,
   "id": "5",
   "metadata": {},
   "outputs": [],
   "source": [
    "application_route = \"/application\"\n",
    "request_body = {\n",
    "    \"application_name\": \"API Client Test Application\",  # Can provide your own name\n",
    "    \"application_type\": \"Test Type\",                    # Can provide your own type description\n",
    "    \"application_source\": \"internal\",                   # Must be 'internal' or 'vendor'\n",
    "    \"application_version\": None,                        # Optional, will default to `1.0`\n",
    "    \"vendor_id\": None                                   # Optional if 'application_source' is 'internal', required if source is 'vendor'\n",
    "}\n",
    "\n",
    "application_id = None\n",
    "application_version = None\n",
    "\n",
    "response = client.post(application_route, json=request_body)\n",
    "\n",
    "if response.status_code == 200:\n",
    "    application = response.json()\n",
    "    \n",
    "    application_id = application.get(\"application_id\")\n",
    "    application_version = application.get(\"application_version\")\n",
    "    application_name = application.get(\"application_name\")\n",
    "    print(\"Created new Application:\")\n",
    "    print(json.dumps(response.json(), indent=4))\n",
    "else:\n",
    "    print(f\"Error: {response.status_code} - {response.text}\")\n"
   ]
  },
  {
   "cell_type": "markdown",
   "id": "6",
   "metadata": {},
   "source": [
    "#### With the `application_id` and `application_version` you can now lookup the new Application:"
   ]
  },
  {
   "cell_type": "code",
   "execution_count": null,
   "id": "7",
   "metadata": {},
   "outputs": [],
   "source": [
    "applications_route = \"/applications/\"\n",
    "query_parameters = {\n",
    "    \"application_id\": application_id,\n",
    "    \"application_version\": application_version,\n",
    "}\n",
    "\n",
    "response = client.get(applications_route, params=query_parameters)\n",
    "\n",
    "if response.status_code == 200:\n",
    "    print(\"API Response:\")\n",
    "    print(json.dumps(response.json(), indent=4))\n",
    "else:\n",
    "    print(f\"Error: {response.status_code} - {response.text}\")\n"
   ]
  },
  {
   "cell_type": "markdown",
   "id": "8",
   "metadata": {},
   "source": [
    "#### Save the `application_id` and `application_version` so that you can perform other compliance tasks for the application like approving it for deployment, testing for biases or adding evidence that a control has been met."
   ]
  },
  {
   "cell_type": "code",
   "execution_count": null,
   "id": "9",
   "metadata": {},
   "outputs": [],
   "source": [
    "print(f\"Application ID: {application_id}\")\n",
    "print(f\"Application Version: {application_version}\")"
   ]
  }
 ],
 "metadata": {
  "kernelspec": {
   "display_name": "Python 3 (ipykernel)",
   "language": "python",
   "name": "python3"
  },
  "language_info": {
   "codemirror_mode": {
    "name": "ipython",
    "version": 3
   },
   "file_extension": ".py",
   "mimetype": "text/x-python",
   "name": "python",
   "nbconvert_exporter": "python",
   "pygments_lexer": "ipython3",
   "version": "3.11.4"
  }
 },
 "nbformat": 4,
 "nbformat_minor": 5
}

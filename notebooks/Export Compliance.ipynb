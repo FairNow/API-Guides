{
 "cells": [
  {
   "cell_type": "markdown",
   "id": "0",
   "metadata": {},
   "source": [
    "## Export Compliance TSV from the FairNow APIs\n",
    "\n",
    "#### This generates a TSV export of the Compliance report, containing applications, and frameworks."
   ]
  },
  {
   "cell_type": "markdown",
   "id": "1",
   "metadata": {},
   "source": [
    "### Prerequisites\n",
    "\n",
    "#### To use this notebook, you'll need a `Client ID` and `Client Secret`. These will either have been provided to you, or you can generate from https://app.fairnow.ai and going the the Admin menu. This notebook assumes you have these available to enter when prompted."
   ]
  },
  {
   "cell_type": "markdown",
   "id": "14696407",
   "metadata": {},
   "source": [
    "## Create Compliance DataFrame\n",
    "#### Graphs can be created using this DataFrame output"
   ]
  },
  {
   "cell_type": "code",
   "execution_count": null,
   "id": "2",
   "metadata": {},
   "outputs": [],
   "source": [
    "from utils.fairnow import export_to_tsv, create_compliance_df\n",
    "\n",
    "compliance_df = create_compliance_df(client_id='2726p9mj2ghit00n23tkjatp84') # Replace with your Client Id"
   ]
  },
  {
   "cell_type": "markdown",
   "id": "fab348ff",
   "metadata": {},
   "source": [
    "### Export to TSV"
   ]
  },
  {
   "cell_type": "code",
   "execution_count": null,
   "id": "ee882711",
   "metadata": {},
   "outputs": [],
   "source": [
    "export_to_tsv(compliance_df, 'compliance_export.tsv')"
   ]
  }
 ],
 "metadata": {
  "kernelspec": {
   "display_name": ".venv",
   "language": "python",
   "name": "python3"
  },
  "language_info": {
   "codemirror_mode": {
    "name": "ipython",
    "version": 3
   },
   "file_extension": ".py",
   "mimetype": "text/x-python",
   "name": "python",
   "nbconvert_exporter": "python",
   "pygments_lexer": "ipython3",
   "version": "3.13.3"
  }
 },
 "nbformat": 4,
 "nbformat_minor": 5
}

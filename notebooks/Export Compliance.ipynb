{
 "cells": [
  {
   "cell_type": "markdown",
   "id": "0",
   "metadata": {},
   "source": [
    "## Exporting CSVs from the FairNow APIs\n",
    "\n",
    "#### This generates a CVS export of the Compliance report, containing applications, and frameworks."
   ]
  },
  {
   "cell_type": "markdown",
   "id": "1",
   "metadata": {},
   "source": [
    "### Prerequisites\n",
    "\n",
    "#### To use this notebook, you'll need a `Client ID` and `Client Secret`. These will either have been provided to you, or you can generate from https://app.fairnow.ai and going the the Admin menu. This notebook assumes you have these available to enter when prompted."
   ]
  },
  {
   "cell_type": "code",
   "execution_count": 3,
   "id": "2",
   "metadata": {},
   "outputs": [],
   "source": [
    "import pandas as pd\n",
    "from utils.fairnow import create_df, export_to_tsv, get_client\n",
    "\n",
    "client = get_client(client_id='client_id') # Replace with your Client Id"
   ]
  },
  {
   "cell_type": "markdown",
   "id": "3",
   "metadata": {},
   "source": [
    "## Create the Applications DataFrame\n",
    "#### Graphs can be created using this DataFrame output"
   ]
  },
  {
   "cell_type": "code",
   "execution_count": 5,
   "id": "4",
   "metadata": {},
   "outputs": [
    {
     "name": "stdout",
     "output_type": "stream",
     "text": [
      "Successfully retrieved applications\n",
      "Created DataFrame from API response\n"
     ]
    }
   ],
   "source": [
    "application_route = \"/applications\"\n",
    "\n",
    "apps_response = None\n",
    "try:\n",
    "    response = client.get(application_route, timeout=None)\n",
    "    if response.status_code == 200:\n",
    "        apps_response = response.json()\n",
    "        print(f\"Successfully retrieved applications\")\n",
    "    else:\n",
    "        print(f\"Error: {response.status_code} - {response.text}\")\n",
    "except Exception as e:\n",
    "    print(e)\n",
    "\n",
    "# Extract fields from response\n",
    "extracted_data = []\n",
    "for app in apps_response['applications']:\n",
    "    app_id = app['application_id']\n",
    "    app_name = app['application_name']\n",
    "    risk_assessment = app.get('risk_assessment', {})\n",
    "    framework_items = risk_assessment.get('framework_assessment_items', []) or []\n",
    "    for framework in framework_items:\n",
    "        extracted_data.append({\n",
    "            'application_id': app_id,\n",
    "            'application_name': app_name,\n",
    "            'framework_id': framework.get('framework_id', ''),\n",
    "            'framework_name': framework.get('framework_name', ''),\n",
    "        })\n",
    "\n",
    "# Convert to DataFrame\n",
    "apps_df =create_df(extracted_data)"
   ]
  },
  {
   "cell_type": "markdown",
   "id": "b42a5c1a",
   "metadata": {},
   "source": [
    "## Frameworks API Call"
   ]
  },
  {
   "cell_type": "code",
   "execution_count": 6,
   "id": "2fe4ac82",
   "metadata": {},
   "outputs": [],
   "source": [
    "def get_framework_controls(framework_id):\n",
    "    application_route = f\"/controls/framework/\"\n",
    "    query_parameters = {\"framework_id\": framework_id}\n",
    "    framework_response = None\n",
    "    \n",
    "    try:\n",
    "        response = client.get(application_route, params=query_parameters, timeout=None)\n",
    "        if response.status_code == 200:\n",
    "            framework_response = response.json()\n",
    "            print(f\"Successfully retrieved framework controls\")\n",
    "            return framework_response\n",
    "        else:\n",
    "            print(f\"Error: {response.status_code} - {response.text}\")\n",
    "            return None\n",
    "    except Exception as e:\n",
    "        print(e)\n",
    "        return None"
   ]
  },
  {
   "cell_type": "markdown",
   "id": "3bafecf0",
   "metadata": {},
   "source": [
    "## Get Framework IDs for each entry in Applications DataFrame\n",
    "#### Graphs can be created using this DataFrame output"
   ]
  },
  {
   "cell_type": "code",
   "execution_count": 7,
   "id": "6828d4f9",
   "metadata": {},
   "outputs": [
    {
     "name": "stdout",
     "output_type": "stream",
     "text": [
      "Successfully retrieved framework controls\n",
      "Successfully retrieved framework controls\n",
      "Successfully retrieved framework controls\n",
      "Successfully retrieved framework controls\n",
      "Successfully retrieved framework controls\n",
      "Successfully retrieved framework controls\n",
      "Successfully retrieved framework controls\n",
      "Successfully retrieved framework controls\n",
      "Successfully retrieved framework controls\n",
      "Successfully retrieved framework controls\n",
      "Created DataFrame from API response\n"
     ]
    }
   ],
   "source": [
    "framework_ids = apps_df['framework_id'].unique()\n",
    "\n",
    "controls_data = []\n",
    "# Get controls for each framework\n",
    "for framework_id in framework_ids:\n",
    "    controls = get_framework_controls(framework_id)\n",
    "    if controls:\n",
    "        # Add framework_id to each control record\n",
    "        for control in controls:\n",
    "            control['framework_id'] = framework_id\n",
    "        controls_data.extend(controls)\n",
    "\n",
    "# Convert to DataFrame\n",
    "controls_df = create_df(controls_data)"
   ]
  },
  {
   "cell_type": "markdown",
   "id": "a1db8ab6",
   "metadata": {},
   "source": [
    "## Merge DataFrames\n",
    "#### Graphs can be created using this DataFrame output"
   ]
  },
  {
   "cell_type": "code",
   "execution_count": 10,
   "id": "6706e530",
   "metadata": {},
   "outputs": [
    {
     "name": "stdout",
     "output_type": "stream",
     "text": [
      "Extracted 336 records\n"
     ]
    }
   ],
   "source": [
    "# Merge with the original DataFrame\n",
    "# This will add the control information to each framework row\n",
    "merged_df = pd.merge(\n",
    "    apps_df[['application_id', 'application_name', 'framework_id', 'framework_name']],\n",
    "    controls_df[['framework_id', 'applications_count', 'applications_ready']],\n",
    "    on='framework_id',\n",
    "    how='left'\n",
    ")\n",
    "merged_df = merged_df.drop_duplicates()\n",
    "\n",
    "print(f\"Extracted {len(merged_df)} records\")"
   ]
  },
  {
   "cell_type": "markdown",
   "id": "fab348ff",
   "metadata": {},
   "source": [
    "### Export to TSV"
   ]
  },
  {
   "cell_type": "code",
   "execution_count": 11,
   "id": "ee882711",
   "metadata": {},
   "outputs": [
    {
     "name": "stdout",
     "output_type": "stream",
     "text": [
      "\n",
      "Data exported to compliance_export.tsv\n"
     ]
    }
   ],
   "source": [
    "export_to_tsv(merged_df, 'compliance_export.tsv')"
   ]
  }
 ],
 "metadata": {
  "kernelspec": {
   "display_name": ".venv",
   "language": "python",
   "name": "python3"
  },
  "language_info": {
   "codemirror_mode": {
    "name": "ipython",
    "version": 3
   },
   "file_extension": ".py",
   "mimetype": "text/x-python",
   "name": "python",
   "nbconvert_exporter": "python",
   "pygments_lexer": "ipython3",
   "version": "3.13.3"
  }
 },
 "nbformat": 4,
 "nbformat_minor": 5
}

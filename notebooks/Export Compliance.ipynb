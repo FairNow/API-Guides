{
 "cells": [
  {
   "cell_type": "markdown",
   "id": "0",
   "metadata": {},
   "source": [
    "## Exporting CSVs from the FairNow APIs\n",
    "\n",
    "#### This generates a CVS export of the Compliance report, containing applications, and frameworks."
   ]
  },
  {
   "cell_type": "markdown",
   "id": "1",
   "metadata": {},
   "source": [
    "### Prerequisites\n",
    "\n",
    "#### To use this notebook, you'll need a `Client ID` and `Client Secret`. These will either have been provided to you, or you can generate from https://app.fairnow.ai and going the the Admin menu. This notebook assumes you have these available to enter when prompted."
   ]
  },
  {
   "cell_type": "code",
   "execution_count": 9,
   "id": "2",
   "metadata": {},
   "outputs": [],
   "source": [
    "import pandas as pd\n",
    "from utils.fairnow import get_client\n",
    "\n",
    "client = get_client()\n",
    "\n",
    "# from getpass import getpass\n",
    "# import httpx\n",
    "# from httpx_auth import OAuth2ClientCredentials\n",
    "\n",
    "# client_id = getpass(\"{client_id}\") # Replace with your Client Id\n",
    "# client_secret = getpass(\"Client Secret\")\n",
    "# fairnow_token_endpoint = \"https://auth.fairnow.dev/oauth2/token\"\n",
    "\n",
    "# auth = OAuth2ClientCredentials(\n",
    "#     token_url=fairnow_token_endpoint,\n",
    "#     client_id=client_id,\n",
    "#     client_secret=client_secret,\n",
    "# )\n",
    "\n",
    "# fairnow_base_url = \"https://api.fairnow.dev/v2\"\n",
    "# client = httpx.Client(base_url=fairnow_base_url, auth=auth)"
   ]
  },
  {
   "cell_type": "markdown",
   "id": "3",
   "metadata": {},
   "source": [
    "## Create the Applications DataFrame"
   ]
  },
  {
   "cell_type": "code",
   "execution_count": null,
   "id": "4",
   "metadata": {},
   "outputs": [],
   "source": [
    "application_route = \"/applications\"\n",
    "\n",
    "apps_response = None\n",
    "try:\n",
    "    response = client.get(application_route, timeout=None)\n",
    "    if response.status_code == 200:\n",
    "        apps_response = response.json()\n",
    "        print(f\"Successfully retrieved applications\")\n",
    "    else:\n",
    "        print(f\"Error: {response.status_code} - {response.text}\")\n",
    "except Exception as e:\n",
    "    print(e)\n",
    "\n",
    "# Extract fields from response\n",
    "extracted_data = []\n",
    "for app in apps_response['applications']:\n",
    "    app_id = app['application_id']\n",
    "    app_name = app['application_name']\n",
    "    risk_assessment = app.get('risk_assessment', {})\n",
    "    framework_items = risk_assessment.get('framework_assessment_items', []) or []\n",
    "    for framework in framework_items:\n",
    "        extracted_data.append({\n",
    "            'application_id': app_id,\n",
    "            'application_name': app_name,\n",
    "            'framework_id': framework.get('framework_id', ''),\n",
    "            'framework_name': framework.get('framework_name', ''),\n",
    "        })\n",
    "\n",
    "# Convert to DataFrame\n",
    "apps_df = pd.DataFrame(extracted_data)\n",
    "apps_df = apps_df.drop_duplicates()\n",
    "print(f\"Extracted frameworks\")"
   ]
  },
  {
   "cell_type": "markdown",
   "id": "b42a5c1a",
   "metadata": {},
   "source": [
    "## Frameworks API Call"
   ]
  },
  {
   "cell_type": "code",
   "execution_count": 21,
   "id": "2fe4ac82",
   "metadata": {},
   "outputs": [],
   "source": [
    "def get_framework_controls(framework_id):\n",
    "    application_route = f\"/controls/framework/\"\n",
    "    query_parameters = {\"framework_id\": framework_id}\n",
    "    framework_response = None\n",
    "    \n",
    "    try:\n",
    "        response = client.get(application_route, params=query_parameters, timeout=None)\n",
    "        if response.status_code == 200:\n",
    "            framework_response = response.json()\n",
    "            print(f\"Successfully retrieved framework controls\")\n",
    "            return framework_response\n",
    "        else:\n",
    "            print(f\"Error: {response.status_code} - {response.text}\")\n",
    "            return None\n",
    "    except Exception as e:\n",
    "        print(e)\n",
    "        return None"
   ]
  },
  {
   "cell_type": "markdown",
   "id": "3bafecf0",
   "metadata": {},
   "source": [
    "## Get Framework IDs for each entry in Applications DataFrame"
   ]
  },
  {
   "cell_type": "code",
   "execution_count": null,
   "id": "6828d4f9",
   "metadata": {},
   "outputs": [],
   "source": [
    "framework_ids = apps_df['framework_id'].unique()\n",
    "\n",
    "controls_data = []\n",
    "# Get controls for each framework\n",
    "for framework_id in framework_ids:\n",
    "    controls = get_framework_controls(framework_id)\n",
    "    if controls:\n",
    "        # Add framework_id to each control record\n",
    "        for control in controls:\n",
    "            control['framework_id'] = framework_id\n",
    "        controls_data.extend(controls)\n",
    "\n",
    "# Create a DataFrame of controls data\n",
    "controls_df = pd.DataFrame(controls_data)\n",
    "controls_df = controls_df.drop_duplicates()\n",
    "print(f\"Extracted controls\")"
   ]
  },
  {
   "cell_type": "markdown",
   "id": "a1db8ab6",
   "metadata": {},
   "source": [
    "## Merge DataFrames"
   ]
  },
  {
   "cell_type": "code",
   "execution_count": null,
   "id": "6706e530",
   "metadata": {},
   "outputs": [],
   "source": [
    "# Merge with the original DataFrame\n",
    "# This will add the control information to each framework row\n",
    "merged_df = pd.merge(\n",
    "    apps_df[['application_id', 'application_name', 'framework_id', 'framework_name']],\n",
    "    controls_df[['framework_id', 'applications_count', 'applications_ready']],\n",
    "    on='framework_id',\n",
    "    how='left'\n",
    ")\n",
    "print(f\"Extracted {len(merged_df)} records\")"
   ]
  },
  {
   "cell_type": "markdown",
   "id": "fab348ff",
   "metadata": {},
   "source": [
    "### Export to TSV"
   ]
  },
  {
   "cell_type": "code",
   "execution_count": null,
   "id": "ee882711",
   "metadata": {},
   "outputs": [],
   "source": [
    "# Export to TSV\n",
    "if 'merged_df':\n",
    "    output_file = 'compliance_export.tsv'\n",
    "    merged_df.to_csv(output_file, sep='\\t', index=False)\n",
    "    print(f\"\\nData exported to {output_file}\")\n",
    "else:\n",
    "    print(\"No data to export\")"
   ]
  }
 ],
 "metadata": {
  "kernelspec": {
   "display_name": ".venv",
   "language": "python",
   "name": "python3"
  },
  "language_info": {
   "codemirror_mode": {
    "name": "ipython",
    "version": 3
   },
   "file_extension": ".py",
   "mimetype": "text/x-python",
   "name": "python",
   "nbconvert_exporter": "python",
   "pygments_lexer": "ipython3",
   "version": "3.13.3"
  }
 },
 "nbformat": 4,
 "nbformat_minor": 5
}

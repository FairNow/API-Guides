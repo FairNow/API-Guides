{
 "cells": [
  {
   "cell_type": "markdown",
   "id": "0",
   "metadata": {},
   "source": [
    "## Exporting CSVs from the FairNow APIs\n",
    "\n",
    "#### This notebook demonstrates how to generate CVSs from the FairNow APIs. The current supported outputs are 1. Severity/Probability Export, 2. Application Inventory Export, and 3. Compliance Export."
   ]
  },
  {
   "cell_type": "markdown",
   "id": "1",
   "metadata": {},
   "source": [
    "### Prerequisites\n",
    "\n",
    "#### To use this notebook, you'll need a `Client ID` and `Client Secret`. These will either have been provided to you, or you can generate from https://app.fairnow.ai and going the the Admin menu. This notebook assumes you have these available to enter when prompted."
   ]
  },
  {
   "cell_type": "code",
   "execution_count": 9,
   "id": "2",
   "metadata": {},
   "outputs": [],
   "source": [
    "from getpass import getpass\n",
    "import httpx\n",
    "from httpx_auth import OAuth2ClientCredentials\n",
    "\n",
    "client_id = \"2726p9mj2ghit00n23tkjatp84\" # Replace with your Client ID\n",
    "client_secret = getpass(\"Client Secret\")\n",
    "fairnow_token_endpoint = \"https://auth.fairnow.dev/oauth2/token\"\n",
    "\n",
    "auth = OAuth2ClientCredentials(\n",
    "    token_url=fairnow_token_endpoint,\n",
    "    client_id=client_id,\n",
    "    client_secret=client_secret,\n",
    ")\n",
    "\n",
    "fairnow_base_url = \"https://api.fairnow.dev/v2\"\n",
    "client = httpx.Client(base_url=fairnow_base_url, auth=auth)"
   ]
  },
  {
   "cell_type": "markdown",
   "id": "3",
   "metadata": {},
   "source": [
    "## Create the df"
   ]
  },
  {
   "cell_type": "code",
   "execution_count": 16,
   "id": "4",
   "metadata": {},
   "outputs": [
    {
     "name": "stdout",
     "output_type": "stream",
     "text": [
      "Successfully retrieved applications\n",
      "Extracted frameworks\n"
     ]
    },
    {
     "data": {
      "text/html": [
       "<div>\n",
       "<style scoped>\n",
       "    .dataframe tbody tr th:only-of-type {\n",
       "        vertical-align: middle;\n",
       "    }\n",
       "\n",
       "    .dataframe tbody tr th {\n",
       "        vertical-align: top;\n",
       "    }\n",
       "\n",
       "    .dataframe thead th {\n",
       "        text-align: right;\n",
       "    }\n",
       "</style>\n",
       "<table border=\"1\" class=\"dataframe\">\n",
       "  <thead>\n",
       "    <tr style=\"text-align: right;\">\n",
       "      <th></th>\n",
       "      <th>application_id</th>\n",
       "      <th>application_name</th>\n",
       "      <th>framework_id</th>\n",
       "      <th>framework_name</th>\n",
       "    </tr>\n",
       "  </thead>\n",
       "  <tbody>\n",
       "    <tr>\n",
       "      <th>0</th>\n",
       "      <td>05e0d38a-f18c-45ac-8eaf-216690f69e8d</td>\n",
       "      <td>Steve Test [renamed x2]</td>\n",
       "      <td>colorado-sb-205-developer</td>\n",
       "      <td>Colorado AI Act - Developer</td>\n",
       "    </tr>\n",
       "    <tr>\n",
       "      <th>1</th>\n",
       "      <td>05e0d38a-f18c-45ac-8eaf-216690f69e8d</td>\n",
       "      <td>Steve Test [renamed x2]</td>\n",
       "      <td>euact-gpai</td>\n",
       "      <td>EU AI Act - General Purpose AI</td>\n",
       "    </tr>\n",
       "    <tr>\n",
       "      <th>2</th>\n",
       "      <td>05e0d38a-f18c-45ac-8eaf-216690f69e8d</td>\n",
       "      <td>Steve Test [renamed x2]</td>\n",
       "      <td>illinois-hb3773</td>\n",
       "      <td>Illinois HB 3773</td>\n",
       "    </tr>\n",
       "    <tr>\n",
       "      <th>3</th>\n",
       "      <td>05e0d38a-f18c-45ac-8eaf-216690f69e8d</td>\n",
       "      <td>Steve Test [renamed x2]</td>\n",
       "      <td>maryland-hb-1202</td>\n",
       "      <td>Maryland HB1202 on Facial Recognition</td>\n",
       "    </tr>\n",
       "    <tr>\n",
       "      <th>4</th>\n",
       "      <td>05e0d38a-f18c-45ac-8eaf-216690f69e8d</td>\n",
       "      <td>Steve Test [renamed x2]</td>\n",
       "      <td>utah-ai-policy-act</td>\n",
       "      <td>Utah AI Policy Act</td>\n",
       "    </tr>\n",
       "  </tbody>\n",
       "</table>\n",
       "</div>"
      ],
      "text/plain": [
       "                         application_id         application_name  \\\n",
       "0  05e0d38a-f18c-45ac-8eaf-216690f69e8d  Steve Test [renamed x2]   \n",
       "1  05e0d38a-f18c-45ac-8eaf-216690f69e8d  Steve Test [renamed x2]   \n",
       "2  05e0d38a-f18c-45ac-8eaf-216690f69e8d  Steve Test [renamed x2]   \n",
       "3  05e0d38a-f18c-45ac-8eaf-216690f69e8d  Steve Test [renamed x2]   \n",
       "4  05e0d38a-f18c-45ac-8eaf-216690f69e8d  Steve Test [renamed x2]   \n",
       "\n",
       "                framework_id                         framework_name  \n",
       "0  colorado-sb-205-developer            Colorado AI Act - Developer  \n",
       "1                 euact-gpai         EU AI Act - General Purpose AI  \n",
       "2            illinois-hb3773                       Illinois HB 3773  \n",
       "3           maryland-hb-1202  Maryland HB1202 on Facial Recognition  \n",
       "4         utah-ai-policy-act                     Utah AI Policy Act  "
      ]
     },
     "execution_count": 16,
     "metadata": {},
     "output_type": "execute_result"
    }
   ],
   "source": [
    "import pandas as pd\n",
    "\n",
    "application_route = \"/applications\"\n",
    "\n",
    "apps_response = None\n",
    "try:\n",
    "    response = client.get(application_route, timeout=None)\n",
    "    if response.status_code == 200:\n",
    "        apps_response = response.json()\n",
    "        print(f\"Successfully retrieved applications\")\n",
    "    else:\n",
    "        print(f\"Error: {response.status_code} - {response.text}\")\n",
    "except Exception as e:\n",
    "    print(e)\n",
    "\n",
    "# Extract fields from response\n",
    "extracted_data = []\n",
    "for app in apps_response['applications']:\n",
    "    app_id = app['application_id']\n",
    "    app_name = app['application_name']\n",
    "    risk_assessment = app.get('risk_assessment', {})\n",
    "    framework_items = risk_assessment.get('framework_assessment_items', []) or []\n",
    "    for framework in framework_items:\n",
    "        extracted_data.append({\n",
    "            'application_id': app_id,\n",
    "            'application_name': app_name,\n",
    "            'framework_id': framework.get('framework_id', ''),\n",
    "            'framework_name': framework.get('framework_name', ''),\n",
    "        })\n",
    "\n",
    "# Convert to DataFrame\n",
    "apps_df = pd.DataFrame(extracted_data)\n",
    "apps_df = apps_df.drop_duplicates()\n",
    "print(f\"Extracted frameworks\")\n",
    "apps_df.head()"
   ]
  },
  {
   "cell_type": "markdown",
   "id": "b42a5c1a",
   "metadata": {},
   "source": [
    "## Frameworks"
   ]
  },
  {
   "cell_type": "code",
   "execution_count": 21,
   "id": "2fe4ac82",
   "metadata": {},
   "outputs": [],
   "source": [
    "def get_framework_controls(framework_id):\n",
    "\n",
    "    query_parameters = {\"framework_id\": framework_id}\n",
    "    # response = client.get(f\"/control/\", params=query_parameters, timeout=None)\n",
    "\n",
    "    application_route = f\"/controls/framework/\"\n",
    "\n",
    "    framework_response = None\n",
    "    \n",
    "    try:\n",
    "        response = client.get(application_route, params=query_parameters, timeout=None)\n",
    "        if response.status_code == 200:\n",
    "            framework_response = response.json()\n",
    "            print(f\"Successfully retrieved framework controls\")\n",
    "            return framework_response\n",
    "        else:\n",
    "            print(f\"Error: {response.status_code} - {response.text}\")\n",
    "            return None\n",
    "    except Exception as e:\n",
    "        print(e)\n",
    "        return None"
   ]
  },
  {
   "cell_type": "markdown",
   "id": "3bafecf0",
   "metadata": {},
   "source": [
    "## Get Framework IDs and combine"
   ]
  },
  {
   "cell_type": "code",
   "execution_count": 22,
   "id": "6828d4f9",
   "metadata": {},
   "outputs": [
    {
     "name": "stdout",
     "output_type": "stream",
     "text": [
      "Fetching controls for framework: colorado-sb-205-developer\n",
      "Successfully retrieved framework controls\n",
      "Fetching controls for framework: euact-gpai\n",
      "Successfully retrieved framework controls\n",
      "Fetching controls for framework: illinois-hb3773\n",
      "Successfully retrieved framework controls\n",
      "Fetching controls for framework: maryland-hb-1202\n",
      "Successfully retrieved framework controls\n",
      "Fetching controls for framework: utah-ai-policy-act\n",
      "Successfully retrieved framework controls\n",
      "Fetching controls for framework: illinois-aivia\n",
      "Successfully retrieved framework controls\n",
      "Fetching controls for framework: nyc-ll-144\n",
      "Successfully retrieved framework controls\n",
      "Fetching controls for framework: colorado-sb-205-deployer\n",
      "Successfully retrieved framework controls\n",
      "Fetching controls for framework: euact-high-risk\n",
      "Successfully retrieved framework controls\n",
      "Fetching controls for framework: euact-low-risk\n",
      "Successfully retrieved framework controls\n"
     ]
    }
   ],
   "source": [
    "framework_ids = apps_df['framework_id'].unique()\n",
    "\n",
    "# Create a list to store all controls data\n",
    "all_controls_data = []\n",
    "\n",
    "# Fetch controls for each framework\n",
    "for framework_id in framework_ids:\n",
    "    print(f\"Fetching controls for framework: {framework_id}\")\n",
    "    controls = get_framework_controls(framework_id)\n",
    "    if controls:\n",
    "        # Add framework_id to each control record\n",
    "        for control in controls:\n",
    "            control['framework_id'] = framework_id\n",
    "        all_controls_data.extend(controls)\n",
    "\n",
    "# Create a DataFrame from the controls data\n",
    "controls_df = pd.DataFrame(all_controls_data)\n",
    "\n",
    "# Merge with the original DataFrame\n",
    "# This will add the control information to each framework row\n",
    "merged_df = pd.merge(\n",
    "    apps_df[['application_id', 'application_name', 'framework_id', 'framework_name']],\n",
    "    controls_df[['framework_id', 'applications_count', 'applications_ready']],\n",
    "    on='framework_id',\n",
    "    how='left'\n",
    ")"
   ]
  },
  {
   "cell_type": "markdown",
   "id": "fab348ff",
   "metadata": {},
   "source": [
    "### Export to TSV"
   ]
  },
  {
   "cell_type": "code",
   "execution_count": 23,
   "id": "ee882711",
   "metadata": {},
   "outputs": [
    {
     "name": "stdout",
     "output_type": "stream",
     "text": [
      "Data exported to application_risks.tsv\n"
     ]
    }
   ],
   "source": [
    "# Export to TSV\n",
    "output_file = 'frameworks_export.tsv'\n",
    "merged_df.to_csv(output_file, sep='\\t', index=False)\n",
    "print(f\"Data exported to {output_file}\")"
   ]
  }
 ],
 "metadata": {
  "kernelspec": {
   "display_name": ".venv",
   "language": "python",
   "name": "python3"
  },
  "language_info": {
   "codemirror_mode": {
    "name": "ipython",
    "version": 3
   },
   "file_extension": ".py",
   "mimetype": "text/x-python",
   "name": "python",
   "nbconvert_exporter": "python",
   "pygments_lexer": "ipython3",
   "version": "3.13.3"
  }
 },
 "nbformat": 4,
 "nbformat_minor": 5
}

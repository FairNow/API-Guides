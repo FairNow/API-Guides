{
 "cells": [
  {
   "cell_type": "markdown",
   "metadata": {},
   "source": [
    "## Export Inventory CSV from the FairNow APIs\n",
    "\n",
    "#### This generates a CVS export of the Inventory report, containing application, vendor, status, and risk level information."
   ]
  },
  {
   "cell_type": "markdown",
   "metadata": {},
   "source": [
    "### Prerequisites\n",
    "\n",
    "#### To use this notebook, you'll need a `Client ID` and `Client Secret`. These will either have been provided to you, or you can generate from https://app.fairnow.ai and going the the Admin menu. This notebook assumes you have these available to enter when prompted."
   ]
  },
  {
   "cell_type": "code",
   "execution_count": 2,
   "metadata": {},
   "outputs": [],
   "source": [
    "import pandas as pd\n",
    "from utils.fairnow import create_df, export_to_tsv, get_client\n",
    "\n",
    "client = get_client(client_id='2726p9mj2ghit00n23tkjatp84') # Replace with your Client Id"
   ]
  },
  {
   "cell_type": "markdown",
   "metadata": {},
   "source": [
    "## Create Applications DataFrame\n",
    "#### Graphs can be created using this DataFrame output"
   ]
  },
  {
   "cell_type": "code",
   "execution_count": null,
   "metadata": {},
   "outputs": [],
   "source": [
    "# Retrieve data from the API\n",
    "application_route = \"/applications\"\n",
    "\n",
    "apps_response = None\n",
    "try:\n",
    "    response = client.get(application_route, timeout=None)\n",
    "    if response.status_code == 200:\n",
    "        apps_response = response.json()\n",
    "        print(f\"Successfully retrieved applications\")\n",
    "    else:\n",
    "        print(f\"Error: {response.status_code} - {response.text}\")\n",
    "except Exception as e:\n",
    "    print(e)\n",
    "\n",
    "# Extract fields from response\n",
    "extracted_data = []\n",
    "for app in apps_response['applications']:\n",
    "    app_id = app['application_id']\n",
    "    app_name = app['application_name']\n",
    "    risk_level = app.get('risk_level', '')\n",
    "    vendor_id = app.get('vendor_id', '')\n",
    "    extracted_data.append({\n",
    "        'application_id': app_id,\n",
    "        'application_name': app_name,\n",
    "        'risk_level': risk_level,\n",
    "        'vendor_id': vendor_id,\n",
    "    })\n",
    "\n",
    "# Convert to DataFrame\n",
    "apps_df = create_df(extracted_data)\n"
   ]
  },
  {
   "cell_type": "markdown",
   "metadata": {},
   "source": [
    "## Create Vendors DataFrame\n",
    "#### Graphs can be created using this DataFrame output"
   ]
  },
  {
   "cell_type": "code",
   "execution_count": null,
   "metadata": {},
   "outputs": [],
   "source": [
    "# Retrieve data from the API\n",
    "application_route = \"/vendors/\"\n",
    "\n",
    "response = None\n",
    "try:\n",
    "    response = client.get(application_route, timeout=None)\n",
    "    if response.status_code == 200:\n",
    "        response = response.json()\n",
    "        print(f\"Successfully retrieved vendors\")\n",
    "    else:\n",
    "        print(f\"Error: {response.status_code} - {response.text}\")\n",
    "except Exception as e:\n",
    "    print(e)\n",
    "\n",
    "# Extract fields from response\n",
    "extracted_data = []\n",
    "for vendor in response:\n",
    "    # Get vendor information\n",
    "    vendor_id = vendor.get('vendor_id', '')\n",
    "    vendor_name = vendor.get('vendor_name', '')\n",
    "    status = vendor.get('status', '')\n",
    "    \n",
    "    # Get governance information\n",
    "    governance = vendor.get('governance', {})\n",
    "    risk_program = governance.get('risk_program', '') if governance else ''\n",
    "    \n",
    "    # Get linked applications\n",
    "    linked_apps = vendor.get('linked_applications', [])\n",
    "    # Only include vendors with linked applications\n",
    "    if linked_apps:\n",
    "        for linked_app in linked_apps:\n",
    "            extracted_data.append({\n",
    "                'application_id': linked_app.get('application_id', ''),\n",
    "                'vendor_id': vendor_id,\n",
    "                'vendor_name': vendor_name,\n",
    "                'status': status,\n",
    "                'risk_program': risk_program\n",
    "            })\n",
    "\n",
    "# Convert to DataFrame\n",
    "vendors_df = create_df(extracted_data)"
   ]
  },
  {
   "cell_type": "markdown",
   "metadata": {},
   "source": [
    "## Merge DataFrames\n",
    "#### Graphs can be created using this DataFrame output"
   ]
  },
  {
   "cell_type": "code",
   "execution_count": null,
   "metadata": {},
   "outputs": [],
   "source": [
    "# Merge DataFrames\n",
    "merged_df = pd.merge(\n",
    "    apps_df[['application_id', 'application_name', 'risk_level', 'vendor_id']],\n",
    "    vendors_df[['vendor_id', 'vendor_name', 'status', 'risk_program']],\n",
    "    on='vendor_id',\n",
    "    how='left'\n",
    ")\n",
    "merged_df = merged_df.drop_duplicates()\n",
    "\n",
    "print(f\"Extracted {len(merged_df)} records\")"
   ]
  },
  {
   "cell_type": "markdown",
   "metadata": {},
   "source": [
    "## Export to TSV"
   ]
  },
  {
   "cell_type": "code",
   "execution_count": null,
   "metadata": {},
   "outputs": [],
   "source": [
    "export_to_tsv(merged_df, 'inventory_export.tsv')"
   ]
  }
 ],
 "metadata": {
  "kernelspec": {
   "display_name": ".venv",
   "language": "python",
   "name": "python3"
  },
  "language_info": {
   "codemirror_mode": {
    "name": "ipython",
    "version": 3
   },
   "file_extension": ".py",
   "mimetype": "text/x-python",
   "name": "python",
   "nbconvert_exporter": "python",
   "pygments_lexer": "ipython3",
   "version": "3.13.3"
  }
 },
 "nbformat": 4,
 "nbformat_minor": 2
}

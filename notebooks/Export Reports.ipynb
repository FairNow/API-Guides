{
 "cells": [
  {
   "cell_type": "markdown",
   "id": "0",
   "metadata": {},
   "source": [
    "## Export TSVs from the FairNow APIs\n",
    "#### This generates TSV exports of the following reports:\n",
    "* Compliance report containing applications, and frameworks information\n",
    "* Inventory report containing application, vendor, status, and risk level information\n",
    "* Risk and Severity report, containing application, risk, severity, and probability information"
   ]
  },
  {
   "cell_type": "markdown",
   "id": "1",
   "metadata": {},
   "source": [
    "### Prerequisites\n",
    "\n",
    "#### To use this notebook, you'll need a `Client ID` and `Client Secret`. These will either have been provided to you, or you can generate from https://app.fairnow.ai and going the the Admin menu. This notebook assumes you have these available to enter when prompted."
   ]
  },
  {
   "cell_type": "markdown",
   "id": "14696407",
   "metadata": {},
   "source": [
    "## Compliance Report"
   ]
  },
  {
   "cell_type": "code",
   "execution_count": null,
   "id": "2",
   "metadata": {},
   "outputs": [
    {
     "name": "stdout",
     "output_type": "stream",
     "text": [
      "Extracted 336 records\n",
      "\n",
      "Data exported to compliance_export.tsv\n"
     ]
    }
   ],
   "source": [
    "from utils.dataframe_helpers import create_compliance_df, create_inventory_df, create_risks_df\n",
    "from utils.fairnow import export_to_tsv\n",
    "\n",
    "# Create Compliance DataFrame\n",
    "# Note: DataFrames can be used for graphing or further analysis\n",
    "compliance_df = create_compliance_df(client_id='client_id') # Replace with your Client Id\n",
    "\n",
    "# Export to TSV\n",
    "export_to_tsv(compliance_df, 'compliance_export.tsv')"
   ]
  },
  {
   "cell_type": "markdown",
   "id": "fab348ff",
   "metadata": {},
   "source": [
    "### Inventory Report"
   ]
  },
  {
   "cell_type": "code",
   "execution_count": 3,
   "id": "ee882711",
   "metadata": {},
   "outputs": [
    {
     "name": "stdout",
     "output_type": "stream",
     "text": [
      "Extracted 24 records\n",
      "\n",
      "Data exported to inventory_export.tsv\n"
     ]
    }
   ],
   "source": [
    "# Create Inventory DataFrame\n",
    "# Note: DataFrames can be used for graphing or further analysis\n",
    "inventory_df = create_inventory_df(client_id='client_id') # Replace with your Client Id\n",
    "\n",
    "# Export to TSV\n",
    "export_to_tsv(inventory_df, 'inventory_export.tsv')"
   ]
  },
  {
   "cell_type": "markdown",
   "id": "432a5d86",
   "metadata": {},
   "source": [
    "### Risk and Severity Report"
   ]
  },
  {
   "cell_type": "code",
   "execution_count": 4,
   "id": "e0c13a50",
   "metadata": {},
   "outputs": [
    {
     "name": "stdout",
     "output_type": "stream",
     "text": [
      "Extracted 7 records\n",
      "\n",
      "Data exported to risk_severity_export.tsv\n"
     ]
    }
   ],
   "source": [
    "# Create Risk and Severity DataFrame\n",
    "# Note: DataFrames can be used for graphing or further analysis\n",
    "apps_df = create_risks_df(client_id='client_id') # Replace with your Client Id\n",
    "\n",
    "# Export to TSV\n",
    "export_to_tsv(apps_df, 'risk_severity_export.tsv')"
   ]
  }
 ],
 "metadata": {
  "kernelspec": {
   "display_name": ".venv",
   "language": "python",
   "name": "python3"
  },
  "language_info": {
   "codemirror_mode": {
    "name": "ipython",
    "version": 3
   },
   "file_extension": ".py",
   "mimetype": "text/x-python",
   "name": "python",
   "nbconvert_exporter": "python",
   "pygments_lexer": "ipython3",
   "version": "3.13.3"
  }
 },
 "nbformat": 4,
 "nbformat_minor": 5
}

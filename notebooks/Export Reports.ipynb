{
 "cells": [
  {
   "cell_type": "markdown",
   "id": "0",
   "metadata": {},
   "source": [
    "## Export TSVs from the FairNow APIs\n",
    "#### This generates TSV exports of the following reports:\n",
    "* Compliance report containing applications, and frameworks information for application and company\n",
    "* Inventory report containing application, vendor, status, and risk level information\n",
    "* Risk and Severity report, containing application, risk, severity, and probability information"
   ]
  },
  {
   "cell_type": "markdown",
   "id": "1",
   "metadata": {},
   "source": [
    "### Prerequisites\n",
    "\n",
    "#### To use this notebook, you'll need a `Client ID` and `Client Secret`. These will either have been provided to you, or you can generate from https://app.fairnow.ai and going the the Admin menu. This notebook assumes you have these available to enter when prompted."
   ]
  },
  {
   "cell_type": "markdown",
   "id": "619f9ce4",
   "metadata": {},
   "source": [
    "## Add imports"
   ]
  },
  {
   "cell_type": "code",
   "execution_count": 2,
   "id": "527a3c59",
   "metadata": {},
   "outputs": [],
   "source": [
    "from utils.dataframe_helpers import create_compliance_df, create_inventory_df, create_risks_df\n",
    "from utils.fairnow import export_to_tsv"
   ]
  },
  {
   "cell_type": "markdown",
   "id": "14696407",
   "metadata": {},
   "source": [
    "## Compliance Report"
   ]
  },
  {
   "cell_type": "code",
   "execution_count": null,
   "id": "2",
   "metadata": {},
   "outputs": [],
   "source": [
    "# Create Compliance DataFrames for Application\n",
    "# Note: DataFrames can be used for graphing or further analysis\n",
    "application_compliance_df = create_compliance_df(client_id='client_id', control_type=\"application\") # Replace with your Client Id\n",
    "\n",
    "# Export to TSV\n",
    "export_to_tsv(application_compliance_df, 'application_compliance_export.tsv')"
   ]
  },
  {
   "cell_type": "code",
   "execution_count": null,
   "id": "6d64b2ac",
   "metadata": {},
   "outputs": [],
   "source": [
    "# Create Compliance DataFrames for Company\n",
    "# Note: DataFrames can be used for graphing or further analysis\n",
    "company_compliance_df = create_compliance_df(client_id='client_id', control_type=\"company\") # Replace with your Client Id\n",
    "\n",
    "# Export to TSV\n",
    "export_to_tsv(company_compliance_df, 'company_compliance_export.tsv')"
   ]
  },
  {
   "cell_type": "markdown",
   "id": "fab348ff",
   "metadata": {},
   "source": [
    "### Inventory Report"
   ]
  },
  {
   "cell_type": "code",
   "execution_count": null,
   "id": "ee882711",
   "metadata": {},
   "outputs": [],
   "source": [
    "# Create Inventory DataFrame\n",
    "# Note: DataFrames can be used for graphing or further analysis\n",
    "inventory_df = create_inventory_df(client_id='client_id') # Replace with your Client Id\n",
    "\n",
    "# Export to TSV\n",
    "export_to_tsv(inventory_df, 'inventory_export.tsv')"
   ]
  },
  {
   "cell_type": "markdown",
   "id": "432a5d86",
   "metadata": {},
   "source": [
    "### Risk and Severity Report"
   ]
  },
  {
   "cell_type": "code",
   "execution_count": null,
   "id": "e0c13a50",
   "metadata": {},
   "outputs": [],
   "source": [
    "# Create Risk and Severity DataFrame\n",
    "# Note: DataFrames can be used for graphing or further analysis\n",
    "apps_df = create_risks_df(client_id='client_id') # Replace with your Client Id\n",
    "\n",
    "# Export to TSV\n",
    "export_to_tsv(apps_df, 'risk_severity_export.tsv')"
   ]
  }
 ],
 "metadata": {
  "kernelspec": {
   "display_name": ".venv",
   "language": "python",
   "name": "python3"
  },
  "language_info": {
   "codemirror_mode": {
    "name": "ipython",
    "version": 3
   },
   "file_extension": ".py",
   "mimetype": "text/x-python",
   "name": "python",
   "nbconvert_exporter": "python",
   "pygments_lexer": "ipython3",
   "version": "3.13.3"
  }
 },
 "nbformat": 4,
 "nbformat_minor": 5
}

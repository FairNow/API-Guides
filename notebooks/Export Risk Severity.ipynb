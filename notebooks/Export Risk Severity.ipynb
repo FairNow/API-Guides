{
 "cells": [
  {
   "cell_type": "markdown",
   "id": "0",
   "metadata": {},
   "source": [
    "## Exporting CSVs from the FairNow APIs\n",
    "\n",
    "#### This generates a CVS export of the Risk and Severity report, containing application, risk, severity, and probability information."
   ]
  },
  {
   "cell_type": "markdown",
   "id": "1",
   "metadata": {},
   "source": [
    "### Prerequisites\n",
    "\n",
    "#### To use this notebook, you'll need a `Client ID` and `Client Secret`. These will either have been provided to you, or you can generate from https://app.fairnow.ai and going the the Admin menu. This notebook assumes you have these available to enter when prompted."
   ]
  },
  {
   "cell_type": "code",
   "execution_count": 5,
   "id": "2",
   "metadata": {},
   "outputs": [],
   "source": [
    "import pandas as pd\n",
    "from utils.fairnow import get_client\n",
    "\n",
    "client = get_client()\n",
    "\n",
    "# from getpass import getpass\n",
    "# import httpx\n",
    "# from httpx_auth import OAuth2ClientCredentials\n",
    "\n",
    "# client_id = \"{client_id}\" # Replace with your Client Id\n",
    "# client_secret = getpass(\"Client Secret\")\n",
    "# fairnow_token_endpoint = \"https://auth.fairnow.dev/oauth2/token\"\n",
    "\n",
    "# auth = OAuth2ClientCredentials(\n",
    "#     token_url=fairnow_token_endpoint,\n",
    "#     client_id=client_id,\n",
    "#     client_secret=client_secret,\n",
    "# )\n",
    "\n",
    "# fairnow_base_url = \"https://api.fairnow.dev/v2\"\n",
    "# client = httpx.Client(base_url=fairnow_base_url, auth=auth)"
   ]
  },
  {
   "cell_type": "markdown",
   "id": "3",
   "metadata": {},
   "source": [
    "## Applications API call"
   ]
  },
  {
   "cell_type": "code",
   "execution_count": null,
   "id": "4",
   "metadata": {},
   "outputs": [],
   "source": [
    "application_route = \"/applications\"\n",
    "\n",
    "apps_response = None\n",
    "try:\n",
    "    response = client.get(application_route, timeout=None)\n",
    "    if response.status_code == 200:\n",
    "        apps_response = response.json()\n",
    "        print(f\"Successfully retrieved applications\")\n",
    "    else:\n",
    "        print(f\"Error: {response.status_code} - {response.text}\")\n",
    "except Exception as e:\n",
    "    print(e)"
   ]
  },
  {
   "cell_type": "markdown",
   "id": "5",
   "metadata": {},
   "source": [
    "## Create Risks DataFrame"
   ]
  },
  {
   "cell_type": "code",
   "execution_count": null,
   "id": "6",
   "metadata": {},
   "outputs": [],
   "source": [
    "apps_data = []\n",
    "for app in apps_response['applications']:\n",
    "    app_id = app['application_id']\n",
    "    app_name = app['application_name']\n",
    "    risk_items = app.get('risk_item_list', []) or []\n",
    "    for risk_item in risk_items:\n",
    "        apps_data.append({\n",
    "            'application_id': app_id,\n",
    "            'application_name': app_name,\n",
    "            'risk_type': risk_item.get('risk_type', ''),\n",
    "            'risk_type_label': risk_item.get('risk_type_label', ''),\n",
    "            'severity': risk_item.get('severity', ''),\n",
    "            'probability': risk_item.get('probability', ''),\n",
    "        })\n",
    "\n",
    "# Convert to DataFrame\n",
    "apps_df = pd.DataFrame(apps_data)\n",
    "apps_df = apps_df.drop_duplicates()\n",
    "print(f\"Extracted risk items from applications\")"
   ]
  },
  {
   "cell_type": "markdown",
   "id": "a6fba5c4",
   "metadata": {},
   "source": [
    "## Export to TSV"
   ]
  },
  {
   "cell_type": "code",
   "execution_count": null,
   "id": "8569223b",
   "metadata": {},
   "outputs": [],
   "source": [
    "if 'apps_df':\n",
    "    output_file = 'risk_severity_export.tsv'\n",
    "    apps_df.to_csv(output_file, sep='\\t', index=False)\n",
    "    print(f\"\\nData exported to {output_file}\")\n",
    "else:\n",
    "    print(\"No data to export\")"
   ]
  }
 ],
 "metadata": {
  "kernelspec": {
   "display_name": ".venv",
   "language": "python",
   "name": "python3"
  },
  "language_info": {
   "codemirror_mode": {
    "name": "ipython",
    "version": 3
   },
   "file_extension": ".py",
   "mimetype": "text/x-python",
   "name": "python",
   "nbconvert_exporter": "python",
   "pygments_lexer": "ipython3",
   "version": "3.13.3"
  }
 },
 "nbformat": 4,
 "nbformat_minor": 5
}

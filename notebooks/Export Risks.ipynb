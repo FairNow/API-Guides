{
 "cells": [
  {
   "cell_type": "markdown",
   "id": "0",
   "metadata": {},
   "source": [
    "## Exporting CSVs from the FairNow APIs\n",
    "\n",
    "#### This notebook demonstrates how to generate CVSs from the FairNow APIs. The current supported outputs are 1. Severity/Probability Export, 2. Application Inventory Export, and 3. Compliance Export."
   ]
  },
  {
   "cell_type": "markdown",
   "id": "1",
   "metadata": {},
   "source": [
    "### Prerequisites\n",
    "\n",
    "#### To use this notebook, you'll need a `Client ID` and `Client Secret`. These will either have been provided to you, or you can generate from https://app.fairnow.ai and going the the Admin menu. This notebook assumes you have these available to enter when prompted."
   ]
  },
  {
   "cell_type": "code",
   "execution_count": 2,
   "id": "2",
   "metadata": {},
   "outputs": [],
   "source": [
    "import json\n",
    "from getpass import getpass\n",
    "import httpx\n",
    "from httpx_auth import OAuth2ClientCredentials\n",
    "\n",
    "client_id = \"2726p9mj2ghit00n23tkjatp84\" # Replace with your Client ID\n",
    "client_secret = getpass(\"Client Secret\")\n",
    "fairnow_token_endpoint = \"https://auth.fairnow.dev/oauth2/token\"\n",
    "\n",
    "auth = OAuth2ClientCredentials(\n",
    "    token_url=fairnow_token_endpoint,\n",
    "    client_id=client_id,\n",
    "    client_secret=client_secret,\n",
    ")\n",
    "\n",
    "fairnow_base_url = \"https://api.fairnow.dev/v2\"\n",
    "client = httpx.Client(base_url=fairnow_base_url, auth=auth)"
   ]
  },
  {
   "cell_type": "markdown",
   "id": "3",
   "metadata": {},
   "source": [
    "## Applications API call"
   ]
  },
  {
   "cell_type": "code",
   "execution_count": 17,
   "id": "4",
   "metadata": {},
   "outputs": [
    {
     "name": "stdout",
     "output_type": "stream",
     "text": [
      "Successfully retrieved applications\n"
     ]
    }
   ],
   "source": [
    "application_route = \"/applications\"\n",
    "\n",
    "apps_response = None\n",
    "try:\n",
    "    response = client.get(application_route, timeout=None)\n",
    "    if response.status_code == 200:\n",
    "        apps_response = response.json()\n",
    "        print(f\"Successfully retrieved applications\")\n",
    "        # Add this to see the structure of the response\n",
    "        # print(\"\\nResponse structure:\")\n",
    "        # print(json.dumps(response_data, indent=2)[:1000])  # Print firs\n",
    "    else:\n",
    "        print(f\"Error: {response.status_code} - {response.text}\")\n",
    "except Exception as e:\n",
    "    print(e)\n"
   ]
  },
  {
   "cell_type": "markdown",
   "id": "4717fd07",
   "metadata": {},
   "source": [
    "## Frameworks Control Call"
   ]
  },
  {
   "cell_type": "code",
   "execution_count": null,
   "id": "8a7a1b67",
   "metadata": {},
   "outputs": [],
   "source": []
  },
  {
   "cell_type": "markdown",
   "id": "5",
   "metadata": {},
   "source": [
    "## Pull Application Risk"
   ]
  },
  {
   "cell_type": "code",
   "execution_count": 11,
   "id": "6",
   "metadata": {},
   "outputs": [
    {
     "name": "stdout",
     "output_type": "stream",
     "text": [
      "Extracted 7 risk items from 24 applications\n"
     ]
    },
    {
     "data": {
      "text/html": [
       "<div>\n",
       "<style scoped>\n",
       "    .dataframe tbody tr th:only-of-type {\n",
       "        vertical-align: middle;\n",
       "    }\n",
       "\n",
       "    .dataframe tbody tr th {\n",
       "        vertical-align: top;\n",
       "    }\n",
       "\n",
       "    .dataframe thead th {\n",
       "        text-align: right;\n",
       "    }\n",
       "</style>\n",
       "<table border=\"1\" class=\"dataframe\">\n",
       "  <thead>\n",
       "    <tr style=\"text-align: right;\">\n",
       "      <th></th>\n",
       "      <th>application_id</th>\n",
       "      <th>application_name</th>\n",
       "      <th>risk_type</th>\n",
       "      <th>risk_type_label</th>\n",
       "      <th>severity</th>\n",
       "      <th>probability</th>\n",
       "    </tr>\n",
       "  </thead>\n",
       "  <tbody>\n",
       "    <tr>\n",
       "      <th>0</th>\n",
       "      <td>06f5a5d3-3d39-4f24-aa24-5d288162c11d</td>\n",
       "      <td>Steve Test</td>\n",
       "      <td>performance</td>\n",
       "      <td>Performance</td>\n",
       "      <td>Low</td>\n",
       "      <td>Low</td>\n",
       "    </tr>\n",
       "    <tr>\n",
       "      <th>1</th>\n",
       "      <td>7148d64d-56cd-4aaa-b6f5-aa353b856d4c</td>\n",
       "      <td>Demo Application</td>\n",
       "      <td>safety</td>\n",
       "      <td>Safety</td>\n",
       "      <td>Low</td>\n",
       "      <td>Medium</td>\n",
       "    </tr>\n",
       "    <tr>\n",
       "      <th>2</th>\n",
       "      <td>7148d64d-56cd-4aaa-b6f5-aa353b856d4c</td>\n",
       "      <td>Demo Application</td>\n",
       "      <td>bias</td>\n",
       "      <td>Bias</td>\n",
       "      <td>High</td>\n",
       "      <td>High</td>\n",
       "    </tr>\n",
       "    <tr>\n",
       "      <th>3</th>\n",
       "      <td>7148d64d-56cd-4aaa-b6f5-aa353b856d4c</td>\n",
       "      <td>Demo Application</td>\n",
       "      <td>security</td>\n",
       "      <td>Security</td>\n",
       "      <td>High</td>\n",
       "      <td>High</td>\n",
       "    </tr>\n",
       "    <tr>\n",
       "      <th>4</th>\n",
       "      <td>7148d64d-56cd-4aaa-b6f5-aa353b856d4c</td>\n",
       "      <td>Demo Application</td>\n",
       "      <td>vendor</td>\n",
       "      <td>Vendor Dependency</td>\n",
       "      <td>Low</td>\n",
       "      <td>Low</td>\n",
       "    </tr>\n",
       "  </tbody>\n",
       "</table>\n",
       "</div>"
      ],
      "text/plain": [
       "                         application_id  application_name    risk_type  \\\n",
       "0  06f5a5d3-3d39-4f24-aa24-5d288162c11d        Steve Test  performance   \n",
       "1  7148d64d-56cd-4aaa-b6f5-aa353b856d4c  Demo Application       safety   \n",
       "2  7148d64d-56cd-4aaa-b6f5-aa353b856d4c  Demo Application         bias   \n",
       "3  7148d64d-56cd-4aaa-b6f5-aa353b856d4c  Demo Application     security   \n",
       "4  7148d64d-56cd-4aaa-b6f5-aa353b856d4c  Demo Application       vendor   \n",
       "\n",
       "     risk_type_label severity probability  \n",
       "0        Performance      Low         Low  \n",
       "1             Safety      Low      Medium  \n",
       "2               Bias     High        High  \n",
       "3           Security     High        High  \n",
       "4  Vendor Dependency      Low         Low  "
      ]
     },
     "execution_count": 11,
     "metadata": {},
     "output_type": "execute_result"
    }
   ],
   "source": [
    "import pandas as pd\n",
    "\n",
    "# Extract fields from response\n",
    "apps_data = []\n",
    "for app in apps_response['applications']:\n",
    "    app_id = app['application_id']\n",
    "    app_name = app['application_name']\n",
    "    # Handle cases where risk_item_list might be None or empty\n",
    "    risk_items = app.get('risk_item_list', []) or []\n",
    "    for risk_item in risk_items:\n",
    "        apps_data.append({\n",
    "            'application_id': app_id,\n",
    "            'application_name': app_name,\n",
    "            'risk_type': risk_item.get('risk_type', ''),\n",
    "            'risk_type_label': risk_item.get('risk_type_label', ''),\n",
    "            'severity': risk_item.get('severity', ''),\n",
    "            'probability': risk_item.get('probability', ''),\n",
    "            # 'description': risk_item.get('description', ''),\n",
    "            # 'tool_tip': risk_item.get('tool_tip', '')\n",
    "        })\n",
    "\n",
    "# Convert to DataFrame\n",
    "apps_df = pd.DataFrame(apps_data)\n",
    "apps_df = apps_df.drop_duplicates()\n",
    "print(f\"Extracted risk items from applications\")\n",
    "apps_df.head()"
   ]
  },
  {
   "cell_type": "markdown",
   "id": "7",
   "metadata": {},
   "source": []
  },
  {
   "cell_type": "markdown",
   "id": "a6fba5c4",
   "metadata": {},
   "source": [
    "### Exporting to TSV\n",
    "\n",
    "Finally, let's export the data to a TSV file."
   ]
  },
  {
   "cell_type": "code",
   "execution_count": 12,
   "id": "8569223b",
   "metadata": {},
   "outputs": [
    {
     "name": "stdout",
     "output_type": "stream",
     "text": [
      "Data exported to application_risks.tsv\n"
     ]
    }
   ],
   "source": [
    "# Export to TSV\n",
    "output_file = 'application_risks.tsv'\n",
    "apps_df.to_csv(output_file, sep='\\t', index=False)\n",
    "print(f\"Data exported to {output_file}\")"
   ]
  },
  {
   "cell_type": "markdown",
   "id": "b42a5c1a",
   "metadata": {},
   "source": [
    "## Frameworks"
   ]
  },
  {
   "cell_type": "code",
   "execution_count": 21,
   "id": "2fe4ac82",
   "metadata": {},
   "outputs": [],
   "source": [
    "def get_framework_controls(framework_id):\n",
    "\n",
    "    framework_response = None\n",
    "    query_parameters = {\"framework_id\": framework_id}\n",
    "    \n",
    "    try:\n",
    "        response = client.get(f\"/controls/framework/\", params=query_parameters, timeout=None)\n",
    "        if response.status_code == 200:\n",
    "            framework_response = response.json()\n",
    "            print(f\"Successfully retrieved framework controls\")\n",
    "            return framework_response\n",
    "        else:\n",
    "            print(f\"Error: {response.status_code} - {response.text}\")\n",
    "            return None\n",
    "    except Exception as e:\n",
    "        print(e)\n",
    "        return None"
   ]
  },
  {
   "cell_type": "code",
   "execution_count": 19,
   "id": "d08e7417",
   "metadata": {},
   "outputs": [
    {
     "name": "stdout",
     "output_type": "stream",
     "text": [
      "Extracted frameworks\n",
      "Error: 404 - {\"detail\":\"Not Found\"}\n",
      "Error: 404 - {\"detail\":\"Not Found\"}\n",
      "Error: 404 - {\"detail\":\"Not Found\"}\n",
      "Error: 404 - {\"detail\":\"Not Found\"}\n",
      "Error: 404 - {\"detail\":\"Not Found\"}\n",
      "Error: 404 - {\"detail\":\"Not Found\"}\n",
      "Error: 404 - {\"detail\":\"Not Found\"}\n",
      "Error: 404 - {\"detail\":\"Not Found\"}\n",
      "Error: 404 - {\"detail\":\"Not Found\"}\n",
      "Error: 404 - {\"detail\":\"Not Found\"}\n"
     ]
    },
    {
     "data": {
      "text/html": [
       "<div>\n",
       "<style scoped>\n",
       "    .dataframe tbody tr th:only-of-type {\n",
       "        vertical-align: middle;\n",
       "    }\n",
       "\n",
       "    .dataframe tbody tr th {\n",
       "        vertical-align: top;\n",
       "    }\n",
       "\n",
       "    .dataframe thead th {\n",
       "        text-align: right;\n",
       "    }\n",
       "</style>\n",
       "<table border=\"1\" class=\"dataframe\">\n",
       "  <thead>\n",
       "    <tr style=\"text-align: right;\">\n",
       "      <th></th>\n",
       "      <th>application_id</th>\n",
       "      <th>application_name</th>\n",
       "      <th>framework_id</th>\n",
       "      <th>framework_name</th>\n",
       "    </tr>\n",
       "  </thead>\n",
       "  <tbody>\n",
       "    <tr>\n",
       "      <th>0</th>\n",
       "      <td>05e0d38a-f18c-45ac-8eaf-216690f69e8d</td>\n",
       "      <td>Steve Test [renamed x2]</td>\n",
       "      <td>colorado-sb-205-developer</td>\n",
       "      <td>Colorado AI Act - Developer</td>\n",
       "    </tr>\n",
       "    <tr>\n",
       "      <th>1</th>\n",
       "      <td>05e0d38a-f18c-45ac-8eaf-216690f69e8d</td>\n",
       "      <td>Steve Test [renamed x2]</td>\n",
       "      <td>euact-gpai</td>\n",
       "      <td>EU AI Act - General Purpose AI</td>\n",
       "    </tr>\n",
       "    <tr>\n",
       "      <th>2</th>\n",
       "      <td>05e0d38a-f18c-45ac-8eaf-216690f69e8d</td>\n",
       "      <td>Steve Test [renamed x2]</td>\n",
       "      <td>illinois-hb3773</td>\n",
       "      <td>Illinois HB 3773</td>\n",
       "    </tr>\n",
       "    <tr>\n",
       "      <th>3</th>\n",
       "      <td>05e0d38a-f18c-45ac-8eaf-216690f69e8d</td>\n",
       "      <td>Steve Test [renamed x2]</td>\n",
       "      <td>maryland-hb-1202</td>\n",
       "      <td>Maryland HB1202 on Facial Recognition</td>\n",
       "    </tr>\n",
       "    <tr>\n",
       "      <th>4</th>\n",
       "      <td>05e0d38a-f18c-45ac-8eaf-216690f69e8d</td>\n",
       "      <td>Steve Test [renamed x2]</td>\n",
       "      <td>utah-ai-policy-act</td>\n",
       "      <td>Utah AI Policy Act</td>\n",
       "    </tr>\n",
       "  </tbody>\n",
       "</table>\n",
       "</div>"
      ],
      "text/plain": [
       "                         application_id         application_name  \\\n",
       "0  05e0d38a-f18c-45ac-8eaf-216690f69e8d  Steve Test [renamed x2]   \n",
       "1  05e0d38a-f18c-45ac-8eaf-216690f69e8d  Steve Test [renamed x2]   \n",
       "2  05e0d38a-f18c-45ac-8eaf-216690f69e8d  Steve Test [renamed x2]   \n",
       "3  05e0d38a-f18c-45ac-8eaf-216690f69e8d  Steve Test [renamed x2]   \n",
       "4  05e0d38a-f18c-45ac-8eaf-216690f69e8d  Steve Test [renamed x2]   \n",
       "\n",
       "                framework_id                         framework_name  \n",
       "0  colorado-sb-205-developer            Colorado AI Act - Developer  \n",
       "1                 euact-gpai         EU AI Act - General Purpose AI  \n",
       "2            illinois-hb3773                       Illinois HB 3773  \n",
       "3           maryland-hb-1202  Maryland HB1202 on Facial Recognition  \n",
       "4         utah-ai-policy-act                     Utah AI Policy Act  "
      ]
     },
     "execution_count": 19,
     "metadata": {},
     "output_type": "execute_result"
    }
   ],
   "source": [
    "import pandas as pd\n",
    "\n",
    "# Extract fields from response\n",
    "extracted_data = []\n",
    "for app in apps_response['applications']:\n",
    "    app_id = app['application_id']\n",
    "    app_name = app['application_name']\n",
    "    # Handle cases where risk_item_list might be None or empty\n",
    "    # risk_assessment = app.get('risk_assessment', {})\n",
    "    framework_items = risk_assessment.get('framework_assessment_items', []) or []\n",
    "    for framework in framework_items:\n",
    "        extracted_data.append({\n",
    "            'application_id': app_id,\n",
    "            'application_name': app_name,\n",
    "            'framework_id': framework.get('framework_id', ''),\n",
    "            'framework_name': framework.get('framework_name', ''),\n",
    "        })\n",
    "\n",
    "# Convert to DataFrame\n",
    "df = pd.DataFrame(extracted_data)\n",
    "df = df.drop_duplicates()\n",
    "print(f\"Extracted frameworks\")\n",
    "\n",
    "# Combine with framework controls\n",
    "# Process controls for each framework\n",
    "for framework_id in df['framework_id'].unique():\n",
    "    controls = get_framework_controls(framework_id)\n",
    "    if controls:\n",
    "        # Process the controls data here\n",
    "        print(f\"Processing controls for {framework_id}\")\n",
    "        # Add your processing logic here\n",
    "df.head()"
   ]
  },
  {
   "cell_type": "markdown",
   "id": "fab348ff",
   "metadata": {},
   "source": [
    "Retrieve controls info"
   ]
  },
  {
   "cell_type": "code",
   "execution_count": null,
   "id": "ee882711",
   "metadata": {},
   "outputs": [],
   "source": []
  }
 ],
 "metadata": {
  "kernelspec": {
   "display_name": ".venv",
   "language": "python",
   "name": "python3"
  },
  "language_info": {
   "codemirror_mode": {
    "name": "ipython",
    "version": 3
   },
   "file_extension": ".py",
   "mimetype": "text/x-python",
   "name": "python",
   "nbconvert_exporter": "python",
   "pygments_lexer": "ipython3",
   "version": "3.13.3"
  }
 },
 "nbformat": 4,
 "nbformat_minor": 5
}

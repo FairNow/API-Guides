{
 "cells": [
  {
   "cell_type": "markdown",
   "id": "0",
   "metadata": {},
   "source": [
    "# Generating Synthetic User Bias Test Data\n",
    "\n",
    "\n",
    "#### This notebook demonstrates how to generate synthetic test data to simulate the evaluation of bias for protected classes.  This is optional as may have real scoring data to be evaluated.\n",
    "\n",
    "### Prerequisites:\n",
    "\n",
    "#### To use this notebook, you'll need a `Client ID` and `Client Secret`. These will either have been provided to you, or you can generate from https://app.fairnow.ai and going the the Admin menu. This notebook assumes you have these available to enter when prompted."
   ]
  },
  {
   "cell_type": "code",
   "execution_count": null,
   "id": "1",
   "metadata": {},
   "outputs": [],
   "source": [
    "import json\n",
    "import datetime\n",
    "import random\n",
    "import csv\n",
    "\n",
    "\n",
    "from getpass import getpass\n",
    "import httpx\n",
    "from httpx_auth import OAuth2ClientCredentials\n",
    "\n",
    "client_id = \"{client_id}\" # Replace with your Client Id\n",
    "client_secret = getpass(\"Client Secret\")\n",
    "fairnow_token_endpoint = \"https://auth.fairnow.ai/oauth2/token\"\n",
    "\n",
    "auth = OAuth2ClientCredentials(\n",
    "    token_url=fairnow_token_endpoint,\n",
    "    client_id=client_id,\n",
    "    client_secret=client_secret,\n",
    ")\n",
    "\n",
    "fairnow_base_url = \"https://api.fairnow.ai/v2\"\n",
    "\n",
    "client = httpx.Client(base_url=fairnow_base_url, auth=auth)"
   ]
  },
  {
   "cell_type": "markdown",
   "id": "2",
   "metadata": {},
   "source": [
    "### Data Requirements\n",
    "\n",
    "#### The CSV data files require the first row to contain the column names.\n",
    "\n",
    "#### The following columns are required:\n",
    "* `TimeStamp` (ISO8601 Timestamp, e.g `2023-12-14T16:26:05.898156Z`)\n",
    "* `Score` (a number between 0 and 1)\n",
    "*  `Each of the  Protected Class Columns` (see below.)\n",
    "\n",
    "#### Optionally, you can add up to 3 additional columns to use for grouping and filtering the bias results after testing."
   ]
  },
  {
   "cell_type": "markdown",
   "id": "3",
   "metadata": {},
   "source": [
    "#### Lookup the Protected Class Column Names\n",
    "\n",
    "#### The following code can be used the Fairnow API to lookup the column names that correspond to protected classes used to evaluate bias.  If you need a different set of column names for your test please contact Fairnow.\n"
   ]
  },
  {
   "cell_type": "code",
   "execution_count": null,
   "id": "4",
   "metadata": {},
   "outputs": [],
   "source": [
    "reference_columns_route = \"/reference/protected-class-columns\"\n",
    "\n",
    "response = client.get(reference_columns_route)\n",
    "\n",
    "if response.status_code == 200:\n",
    "    print(json.dumps(response.json(), indent=4))\n",
    "else:\n",
    "    print(f\"Error: {response.status_code} - {response.text}\")"
   ]
  },
  {
   "cell_type": "markdown",
   "id": "5",
   "metadata": {},
   "source": [
    "#### Now pull the column names out and generate some random data.  In addition to the required columns `Timestamp` and `Score` and the protected class columns the example contains two columns that can be used to filter the results.  "
   ]
  },
  {
   "cell_type": "code",
   "execution_count": null,
   "id": "6",
   "metadata": {},
   "outputs": [],
   "source": [
    "table_data = response.json()\n",
    "protected_class_columns = [ column[\"id\"] for column in table_data[\"table_data\"]]\n",
    "print(f\"Protected class column names: {protected_class_columns}\")\n",
    "\n",
    "number_of_protected_class_values = 10\n",
    "number_of_rows = 1000\n",
    "\n",
    "required_columns = [ \"Timestamp\", \"Score\" ]\n",
    "filter_columns = [ \"Color\", \"Size\"]\n",
    "all_columns = required_columns + protected_class_columns + filter_columns\n",
    "\n",
    "colors = [ \"Blue\", \"Red\", \"Yellow\", \"Green\", \"Orange\", \"Purple\" ]\n",
    "sizes = [ \"X-Small\", \"Small\", \"Medium\", \"Large\", \"X-Large\" ]\n",
    "\n",
    "data = [ all_columns ]\n",
    "for x in range(number_of_rows):\n",
    "    row = [\n",
    "        datetime.datetime.now(datetime.timezone.utc).isoformat().replace(\"+00:00\", \"Z\"),  # ISO Timestamp\n",
    "        random.random()                                                                   # Score\n",
    "    ]\n",
    "    for column in protected_class_columns:\n",
    "        row.append(f\"{column}-{random.randrange(number_of_protected_class_values)}\")\n",
    "    \n",
    "    row.append(random.choice(colors))   \n",
    "    row.append(random.choice(sizes))\n",
    "    \n",
    "    data.append(row)\n"
   ]
  },
  {
   "cell_type": "markdown",
   "id": "7",
   "metadata": {},
   "source": [
    "#### Now create the CSV file in the local directory."
   ]
  },
  {
   "cell_type": "code",
   "execution_count": null,
   "id": "8",
   "metadata": {},
   "outputs": [],
   "source": [
    "with open('scores.csv', 'w', newline='') as csvfile:\n",
    "    writer = csv.writer(csvfile)\n",
    "    writer.writerows(data)\n"
   ]
  },
  {
   "cell_type": "markdown",
   "id": "9",
   "metadata": {},
   "source": [
    "#### Check that the file exists and contains the randomly generated data.\n"
   ]
  },
  {
   "cell_type": "code",
   "execution_count": null,
   "id": "10",
   "metadata": {},
   "outputs": [],
   "source": [
    "!cat scores.csv"
   ]
  },
  {
   "cell_type": "markdown",
   "id": "11",
   "metadata": {},
   "source": [
    "#### You can now use this file for testing bias - see the `User Data Testing` notebook for instructions."
   ]
  }
 ],
 "metadata": {
  "kernelspec": {
   "display_name": "Python 3",
   "language": "python",
   "name": "python3"
  },
  "language_info": {
   "codemirror_mode": {
    "name": "ipython",
    "version": 2
   },
   "file_extension": ".py",
   "mimetype": "text/x-python",
   "name": "python",
   "nbconvert_exporter": "python",
   "pygments_lexer": "ipython2",
   "version": "2.7.6"
  }
 },
 "nbformat": 4,
 "nbformat_minor": 5
}

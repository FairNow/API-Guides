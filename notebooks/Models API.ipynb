{
 "cells": [
  {
   "cell_type": "markdown",
   "id": "56469c28",
   "metadata": {},
   "source": [
    "## Models API Notebook"
   ]
  },
  {
   "cell_type": "markdown",
   "id": "b01d859e",
   "metadata": {},
   "source": [
    "### Prerequisites:\n",
    "\n",
    "#### To use this notebook, you'll need a `client_id` and `client_secret`. These will either have been provided to you, or you can generate from https://app.fairnow.ai and going the the Admin menu. This notebook assumes you have these stored as environment variables:\n",
    "\n",
    "* FAIRNOW_CLIENT_ID\n",
    "* FAIRNOW_CLIENT_SECRET"
   ]
  },
  {
   "cell_type": "markdown",
   "id": "40853992",
   "metadata": {},
   "source": [
    "#### Use your `client_id` and `client_secret` to get an `access_token`"
   ]
  },
  {
   "cell_type": "code",
   "execution_count": null,
   "id": "382ae444",
   "metadata": {},
   "outputs": [],
   "source": [
    "import requests\n",
    "import os\n",
    "import json"
   ]
  },
  {
   "cell_type": "code",
   "execution_count": null,
   "id": "03cb940c",
   "metadata": {},
   "outputs": [],
   "source": [
    "access_token = None\n",
    "\n",
    "# Get the client secret and Id needed for OAuth2.0:\n",
    "client_id = os.getenv(\"FAIRNOW_CLIENT_ID\")\n",
    "client_secret = os.getenv(\"FAIRNOW_CLIENT_SECRET\")\n",
    "\n",
    "# Call the Auth endpoint to request a token:\n",
    "fairnow_token_endpoint = \"https://auth.fairnow.ai/oauth2/token\"\n",
    "scope = \"https://auth.fairnow.ai/FULL_ACCESS\"\n",
    "\n",
    "token_request_data = {\n",
    "    'grant_type': 'client_credentials',\n",
    "    'client_id': client_id,\n",
    "    'client_secret': client_secret,\n",
    "    'scope': scope\n",
    "}\n",
    "\n",
    "try:\n",
    "    response = requests.post(fairnow_token_endpoint, data=token_request_data)\n",
    "    if response.status_code == 200:\n",
    "        access_token = response.json().get('access_token')\n",
    "        print('Successfully created token')\n",
    "    else:\n",
    "        print(f'Error: {response.status_code} - {response.text}')\n",
    "\n",
    "except Exception as e:\n",
    "    print(f'Request failed: {e}')"
   ]
  },
  {
   "cell_type": "code",
   "execution_count": null,
   "id": "7bd5af5e",
   "metadata": {},
   "outputs": [],
   "source": [
    "headers = {\"Authorization\": f\"Bearer {access_token}\", \"Accept\": \"application/json\"}\n",
    "\n",
    "fairnow_api = \"https://api.fairnow.ai/v1\"\n",
    "models_api = f\"{fairnow_api}/models\""
   ]
  },
  {
   "cell_type": "markdown",
   "id": "9e0ec198",
   "metadata": {},
   "source": [
    "#### Create A New Model"
   ]
  },
  {
   "cell_type": "markdown",
   "id": "3a8eb0bb",
   "metadata": {},
   "source": [
    "#### At a minimum a model requires a Model Name and Version. The response will give you a `model_id` and `version`, save these for use in other notebooks."
   ]
  },
  {
   "cell_type": "code",
   "execution_count": null,
   "id": "9e72b76a",
   "metadata": {},
   "outputs": [],
   "source": [
    "payload = {\n",
    "    \"modelName\": \"Test Model\",\n",
    "    \"version\": \"1.0\"\n",
    "}\n",
    "\n",
    "response = requests.post(models_api, json=payload, headers=headers)\n",
    "\n",
    "if response.status_code == 200:\n",
    "    model = response.json().get(\"model\", {})\n",
    "    \n",
    "    model_name = model.get(\"modelName\")\n",
    "    model_id = model.get(\"modelId\")\n",
    "    version = model.get(\"version\")\n",
    "\n",
    "    print(f\"Model Name: {model_name}\")\n",
    "    print(f\"Model Id: {model_id}\")\n",
    "    print(f\"Version: {version}\")\n",
    "else:\n",
    "    print(f\"Error: {response.status_code} - {response.text}\")\n"
   ]
  },
  {
   "cell_type": "markdown",
   "id": "fb38be69",
   "metadata": {},
   "source": [
    "#### Get a list of all models:"
   ]
  },
  {
   "cell_type": "code",
   "execution_count": null,
   "id": "32312f4d",
   "metadata": {},
   "outputs": [],
   "source": [
    "response = requests.get(models_api, headers=headers)\n",
    "print(json.dumps(response.json(), indent=4))"
   ]
  },
  {
   "cell_type": "code",
   "execution_count": null,
   "id": "b7ab3239",
   "metadata": {},
   "outputs": [],
   "source": []
  }
 ],
 "metadata": {
  "kernelspec": {
   "display_name": "Python 3 (ipykernel)",
   "language": "python",
   "name": "python3"
  },
  "language_info": {
   "codemirror_mode": {
    "name": "ipython",
    "version": 3
   },
   "file_extension": ".py",
   "mimetype": "text/x-python",
   "name": "python",
   "nbconvert_exporter": "python",
   "pygments_lexer": "ipython3",
   "version": "3.11.4"
  }
 },
 "nbformat": 4,
 "nbformat_minor": 5
}

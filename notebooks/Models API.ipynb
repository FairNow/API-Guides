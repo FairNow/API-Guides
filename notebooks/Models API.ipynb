{
 "cells": [
  {
   "cell_type": "code",
   "execution_count": null,
   "id": "03cb940c",
   "metadata": {},
   "outputs": [],
   "source": [
    "#\n",
    "# Models API Notebook.\n",
    "#\n",
    "# To use this notebook, you'll need a `client_id` and `client_secret`, which you can generate from \n",
    "# https://app.fairnow.ai and going the the Admin menu. This notebook assumes you have these stored as\n",
    "# environment variables\n",
    "#\n",
    "\n",
    "import requests\n",
    "import os\n",
    "import json\n",
    "\n",
    "client_id = os.getenv(\"FAIRNOW_CLIENT_ID\")\n",
    "client_secret = os.getenv(\"FAIRNOW_CLIENT_SECRET\")\n",
    "\n",
    "fairnow_api = \"https://api.fairnow.dev/v1\"\n",
    "fairnow_token_endpoint = \"https://auth.fairnow.dev/oauth2/token\""
   ]
  },
  {
   "cell_type": "code",
   "execution_count": null,
   "id": "bfc8713e",
   "metadata": {},
   "outputs": [],
   "source": [
    "# FairNow uses OAuth2, so first thing we need to do is get a token:\n",
    "\n",
    "scope = \"https://auth.fairnow.dev/FULL_ACCESS\"\n",
    "access_token = None\n",
    "\n",
    "token_request_data = {\n",
    "    'grant_type': 'client_credentials',\n",
    "    'client_id': client_id,\n",
    "    'client_secret': client_secret,\n",
    "    'scope': scope\n",
    "}\n",
    "\n",
    "try:\n",
    "    response = requests.post(fairnow_token_endpoint, data=token_request_data)\n",
    "    if response.status_code == 200:\n",
    "        access_token = response.json().get('access_token')\n",
    "    else:\n",
    "        print(f'Error: {response.status_code} - {response.text}')\n",
    "        print(response)\n",
    "\n",
    "\n",
    "except Exception as e:\n",
    "    print(f'Request failed: {e}')"
   ]
  },
  {
   "cell_type": "code",
   "execution_count": null,
   "id": "9e72b76a",
   "metadata": {},
   "outputs": [],
   "source": [
    "# How to add a Model\n",
    "#\n",
    "# At a minimum a model requires a Model Name. The response will give you a model_id and version, save these for\n",
    "# use in other notebooks.\n",
    "\n",
    "\n",
    "payload = {\n",
    "    \"modelName\": \"Test Model\"\n",
    "}\n",
    "\n",
    "response = requests.post(models_url, json=payload, headers=headers)\n",
    "\n",
    "if response.status_code == 200:\n",
    "    model = response.json().get(\"model\", {})\n",
    "    \n",
    "    model_name = model.get(\"modelName\")\n",
    "    model_id = model.get(\"modelId\")\n",
    "    version = model.get(\"version\")\n",
    "\n",
    "    print(f\"Model Name: {model_name}\")\n",
    "    print(f\"Model Id: {model_id}\")\n",
    "    print(f\"Version: {version}\")\n",
    "else:\n",
    "    print(f\"Error: {response.status_code} - {response.text}\")\n"
   ]
  },
  {
   "cell_type": "code",
   "execution_count": null,
   "id": "32312f4d",
   "metadata": {},
   "outputs": [],
   "source": [
    "# Get a list of all current models:\n",
    "\n",
    "models_url = f\"{fairnow_api}/models\"\n",
    "\n",
    "headers = {\"Authorization\": f\"Bearer {access_token}\", \"Accept\": \"application/json\"}\n",
    "\n",
    "response = requests.get(models_url, headers=headers)\n",
    "print(json.dumps(response.json(), indent=4))"
   ]
  }
 ],
 "metadata": {
  "kernelspec": {
   "display_name": "Python 3 (ipykernel)",
   "language": "python",
   "name": "python3"
  },
  "language_info": {
   "codemirror_mode": {
    "name": "ipython",
    "version": 3
   },
   "file_extension": ".py",
   "mimetype": "text/x-python",
   "name": "python",
   "nbconvert_exporter": "python",
   "pygments_lexer": "ipython3",
   "version": "3.11.4"
  }
 },
 "nbformat": 4,
 "nbformat_minor": 5
}
